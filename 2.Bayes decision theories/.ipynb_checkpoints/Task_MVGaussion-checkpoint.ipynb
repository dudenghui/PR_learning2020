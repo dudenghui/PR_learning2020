{
 "cells": [
  {
   "cell_type": "code",
   "execution_count": 46,
   "metadata": {},
   "outputs": [],
   "source": [
    "from sklearn import datasets\n",
    "from sklearn.model_selection import train_test_split\n",
    "from sklearn.datasets import fetch_openml\n",
    "from sklearn.preprocessing import LabelEncoder\n",
    "from sklearn.naive_bayes import GaussianNB\n",
    "from sklearn.decomposition import PCA\n",
    "\n",
    "import numpy as np\n",
    "import matplotlib.pyplot as plt\n",
    "%matplotlib inline\n",
    "import math"
   ]
  },
  {
   "cell_type": "markdown",
   "metadata": {},
   "source": [
    "这是一个多变量高斯的正式版本"
   ]
  },
  {
   "cell_type": "markdown",
   "metadata": {},
   "source": [
    "### 多变量高斯分布的贝叶斯分类器  \n",
    "$$p(x)=N(x|\\mu,\\Sigma)=\\frac1{(2\\pi)^\\frac{p}2}\\frac1{|\\Sigma|^\\frac1{2}}e^{-\\frac1{2}(x-\\mu)^T\\Sigma^{-1}(x-\\mu)}$$\n",
    "\n",
    "其中$\\mu=\\frac1{N}\\sum_{i=1}^{N}x_i$\n",
    "\n",
    "$ \\Sigma=\\frac1N\\sum_{i=1}^{N}(x_i-\\mu)(x_i-\\mu)^T$"
   ]
  },
  {
   "cell_type": "code",
   "execution_count": 47,
   "metadata": {},
   "outputs": [],
   "source": [
    "class MVGaussion:\n",
    "    def __init__(self):\n",
    "        self.model = None\n",
    "\n",
    "    @staticmethod\n",
    "    # mathematical expectation\n",
    "    def mu(X):\n",
    "        return sum(X) / float(len(X))#生成一个p*1的特征均值矩阵\n",
    "\n",
    "    # sigma natrix(p*p)\n",
    "    def sigma(self, train_data,train_mu):\n",
    "        train_data_shape = np.shape(train_data)\n",
    "        sigma = np.zeros((train_data_shape[1],train_data_shape[1]))\n",
    "        for sample in zip(train_data):\n",
    "            dot = sample-train_mu\n",
    "            sigma += np.dot(dot.T,dot)\n",
    "        return sigma/train_data_shape[0]\n",
    "\n",
    "    # 处理X_train\n",
    "    def summarize(self, train_data):#train_data为一个N*p的矩阵\n",
    "        mu = [self.mu(i) for i in zip(*train_data)]#1*P\n",
    "        #muT = np.array(mu).reshape(np.size(mu),1)\n",
    "        sigma = self.sigma(train_data,np.array(mu))\n",
    "        summaries = {'mu':mu,'sigma':sigma}#\n",
    "        return summaries#summaries得到的模型参数应该为一个p*1的mu矩阵和一个p*p的大sigma矩阵\n",
    "\n",
    "    # 分类别求出数学期望和标准差\n",
    "    def train(self, X, y):\n",
    "        labels = list(set(y))\n",
    "        data = {label:[] for label in labels}#\n",
    "        for f, label in zip(X, y):\n",
    "            data[label].append(f)\n",
    "        self.model = {label: self.summarize(value) for label, value in data.items()}\n",
    "#         print(self.model)\n",
    "#         for label, value in self.model.items():\n",
    "#             mu,sigma = value['mu'],value['sigma']\n",
    "#             print(mu)\n",
    "#             print(sigma)\n",
    "        return self.model\n",
    "\n",
    "    # 计算概率\n",
    "    def calculate_probabilities(self, input_data):\n",
    "        probabilities = {}\n",
    "        p = np.size(input_data)\n",
    "        for label, value in self.model.items():#value是一个字典\n",
    "            mu,sigma = value['mu'],value['sigma']\n",
    "            sign = input_data-mu\n",
    "            exponent = math.exp((-0.5*np.dot(sign,np.dot(np.linalg.inv(sigma),sign.T))))\n",
    "            probabilities[label] = exponent/(((2*math.pi)**(p/2))*(np.linalg.det(sigma)**0.5))\n",
    "        \n",
    "        return probabilities\n",
    "    \n",
    "    # 类别\n",
    "    def predict(self, X_test):\n",
    "        label = list(range(X_test.shape[0]))\n",
    "        for i in range(X_test.shape[0]):\n",
    "            label[i] = sorted(self.calculate_probabilities(X_test[i,:]).items(), key=lambda x: x[-1])[-1][0]\n",
    "        \n",
    "        return label\n",
    "\n",
    "    def score(self, X_test, y_test):\n",
    "        right = 0\n",
    "        for X, y in zip(X_test, y_test):\n",
    "            label = self.predict(X)\n",
    "            if label == y:\n",
    "                right += 1\n",
    "\n",
    "        return right / float(len(X_test))"
   ]
  },
  {
   "cell_type": "markdown",
   "metadata": {},
   "source": [
    "### 1.使用朴素贝叶斯解决IRIS分类问题"
   ]
  },
  {
   "cell_type": "code",
   "execution_count": 48,
   "metadata": {
    "scrolled": false
   },
   "outputs": [
    {
     "name": "stdout",
     "output_type": "stream",
     "text": [
      "IRIS:Number of mislabeled points out of a total 75 points : 0, Acc: 100.000000%\n"
     ]
    }
   ],
   "source": [
    "iris = datasets.load_iris()\n",
    "X=iris.data\n",
    "y=iris.target\n",
    "X_train, X_test, y_train, y_test = train_test_split(X, y, test_size=0.5, random_state=1)\n",
    "\n",
    "\n",
    "model = MVGaussion()\n",
    "model.train(X_train, y_train)\n",
    "y_pred = model.predict(X_test)\n",
    "\n",
    "print(\"IRIS:Number of mislabeled points out of a total %d points : %d, Acc: %f%%\"\n",
    "      % (X_test.shape[0], (y_test != y_pred).sum(),100*(y_test == y_pred).sum()/X_test.shape[0]))\n"
   ]
  },
  {
   "cell_type": "markdown",
   "metadata": {},
   "source": [
    "### 使用朴素贝叶斯解决手写数字分类问题"
   ]
  },
  {
   "cell_type": "code",
   "execution_count": 49,
   "metadata": {},
   "outputs": [
    {
     "name": "stdout",
     "output_type": "stream",
     "text": [
      "USPS:Number of mislabeled points out of a total 4649 points : 184, Acc: 96.042160%\n"
     ]
    }
   ],
   "source": [
    "digits=fetch_openml(name='USPS',version=2,data_home='E:/scikit_learn_data')\n",
    "X_d=digits.data\n",
    "y_d=digits.target\n",
    "y_u=np.unique(y_d)\n",
    "enc = LabelEncoder()\n",
    "enc.fit(y_d)\n",
    "name=enc.classes_\n",
    "\n",
    "y1=enc.transform(y_d)\n",
    "X_reduced = PCA(n_components=30).fit_transform(X_d)#特征提取\n",
    "\n",
    "X_train_d, X_test_d, y_train_d, y_test_d = train_test_split(X_reduced, y1, test_size=0.5, random_state=1)\n",
    "\n",
    "model_d = MVGaussion()\n",
    "model_d.train(X_train_d, y_train_d)\n",
    "y_pred_d = model_d.predict(X_test_d)\n",
    "\n",
    "print(\"USPS:Number of mislabeled points out of a total %d points : %d, Acc: %f%%\"\n",
    "      %(X_test_d.shape[0], (y_test_d != y_pred_d).sum(),100*(y_test_d == y_pred_d).sum()/X_test_d.shape[0]))"
   ]
  }
 ],
 "metadata": {
  "kernelspec": {
   "display_name": "Python 3",
   "language": "python",
   "name": "python3"
  },
  "language_info": {
   "codemirror_mode": {
    "name": "ipython",
    "version": 3
   },
   "file_extension": ".py",
   "mimetype": "text/x-python",
   "name": "python",
   "nbconvert_exporter": "python",
   "pygments_lexer": "ipython3",
   "version": "3.7.3"
  }
 },
 "nbformat": 4,
 "nbformat_minor": 2
}
