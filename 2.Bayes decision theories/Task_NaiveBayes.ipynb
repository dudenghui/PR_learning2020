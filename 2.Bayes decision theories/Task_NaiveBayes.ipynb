{
 "cells": [
  {
   "cell_type": "code",
   "execution_count": 69,
   "metadata": {},
   "outputs": [],
   "source": [
    "import numpy as np\n",
    "import pandas as pd\n",
    "import matplotlib.pyplot as plt\n",
    "%matplotlib inline\n",
    "\n",
    "from sklearn import datasets\n",
    "from sklearn.datasets import fetch_openml\n",
    "\n",
    "from sklearn.model_selection import train_test_split#模型选择\n",
    "from sklearn.preprocessing import LabelEncoder#预处理\n",
    "from sklearn.decomposition import PCA#主成分分析\n",
    "\n",
    "from sklearn.naive_bayes import GaussianNB#高斯朴素贝叶斯算法\n",
    "\n",
    "from collections import Counter\n",
    "import math"
   ]
  },
  {
   "cell_type": "markdown",
   "metadata": {},
   "source": [
    "**注意，目前的程序在进行预测的时候暂时无法预测一维数据，原因在于X_test.shape[0]当X_test为只有一个样本时，为4，而不是多个样本时的样本数目，这一点后续熟练numpy的时候需要作调整**"
   ]
  },
  {
   "cell_type": "markdown",
   "metadata": {},
   "source": [
    "### 满足高斯分布的朴素贝叶斯类\n",
    "\n",
    "特征的可能性被假设为高斯\n",
    "\n",
    "概率密度函数：\n",
    "$$P(x_i | y_k)=\\frac{1}{\\sqrt{2\\pi\\sigma^2_{yk}}}exp(-\\frac{(x_i-\\mu_{yk})^2}{2\\sigma^2_{yk}})$$\n",
    "\n",
    "数学期望(mean)：$\\mu$，方差：$\\sigma^2=\\frac{\\sum(X-\\mu)^2}{N}$\n"
   ]
  },
  {
   "cell_type": "code",
   "execution_count": 70,
   "metadata": {},
   "outputs": [],
   "source": [
    "class NaiveBayes:\n",
    "    def __init__(self):\n",
    "        self.model = None\n",
    "\n",
    "    @staticmethod\n",
    "    # mathematical expectation\n",
    "    def mean(X):\n",
    "        return sum(X) / float(len(X))\n",
    "\n",
    "    # standard deviation\n",
    "    def stdev(self, X):\n",
    "        avg = self.mean(X)\n",
    "        return math.sqrt(sum([pow(x-avg, 2) for x in X]) / float(len(X)))\n",
    "\n",
    "    # probability density function\n",
    "    def gaussian_probability(self, x, mean, stdev):\n",
    "        exponent = math.exp(-(math.pow(x-mean,2)/(2*math.pow(stdev,2))))\n",
    "        return (1 / (math.sqrt(2*math.pi) * stdev)) * exponent\n",
    "\n",
    "    # 处理X_train\n",
    "    def summarize(self, train_data):\n",
    "        summaries = [(self.mean(i), self.stdev(i)) for i in zip(*train_data)]\n",
    "        return summaries\n",
    "\n",
    "    # 分类别求出数学期望和标准差\n",
    "    def train(self, X, y):\n",
    "        labels = list(set(y))\n",
    "        data = {label:[] for label in labels}#生成字典{0.0: [], 1.0: []}\n",
    "        for f, label in zip(X, y):\n",
    "            data[label].append(f)\n",
    "        self.model = {label: self.summarize(value) for label, value in data.items()}\n",
    "        return self.model\n",
    "\n",
    "    # 计算概率\n",
    "    def calculate_probabilities(self, input_data):\n",
    "        probabilities = {}\n",
    "        for label, value in self.model.items():\n",
    "            probabilities[label] = 1\n",
    "            for i in range(len(value)):\n",
    "                mean, stdev = value[i]\n",
    "                probabilities[label] *= self.gaussian_probability(input_data[i], mean, stdev)\n",
    "        return probabilities\n",
    "    \n",
    "    # 类别\n",
    "    def predict(self, X_test):\n",
    "        label = list(range(X_test.shape[0]))\n",
    "#         print(X_test.shape)\n",
    "        for i in range(X_test.shape[0]):\n",
    "            label[i] = sorted(self.calculate_probabilities(X_test[i,:]).items(), key=lambda x: x[-1])[-1][0]\n",
    "        \n",
    "        return label\n",
    "\n",
    "    def score(self, X_test, y_test):\n",
    "        right = 0\n",
    "        for X, y in zip(X_test, y_test):\n",
    "            label = self.predict(X)\n",
    "            if label == y:\n",
    "                right += 1\n",
    "\n",
    "        return right / float(len(X_test))"
   ]
  },
  {
   "cell_type": "markdown",
   "metadata": {},
   "source": [
    "### 1.使用朴素贝叶斯解决IRIS分类问题"
   ]
  },
  {
   "cell_type": "code",
   "execution_count": 71,
   "metadata": {
    "scrolled": false
   },
   "outputs": [
    {
     "name": "stdout",
     "output_type": "stream",
     "text": [
      "IRIS:Number of mislabeled points out of a total 75 points : 3, Acc: 96.000000%\n"
     ]
    }
   ],
   "source": [
    "iris = datasets.load_iris()\n",
    "X=iris.data\n",
    "y=iris.target\n",
    "X_train, X_test, y_train, y_test = train_test_split(X, y, test_size=0.5, random_state=1)\n",
    "\n",
    "# x_min, x_max = X[:, 0].min() - .5, X[:, 0].max() + .5\n",
    "# y_min, y_max = X[:, 1].min() - .5, X[:, 1].max() + .5\n",
    "# plt.figure(2, figsize=(8, 6))\n",
    "# plt.clf()\n",
    "# plt.scatter(X[:, 0], X[:, 1], c=y, cmap=plt.cm.Set1,edgecolor='k')\n",
    "# plt.xlabel('Sepal length')\n",
    "# plt.ylabel('Sepal width')\n",
    "# plt.title(\"IRIS dataset\")\n",
    "# plt.xlim(x_min, x_max)\n",
    "# plt.ylim(y_min, y_max)\n",
    "# plt.xticks(())\n",
    "# plt.yticks(())\n",
    "# plt.show()\n",
    "\n",
    "model = NaiveBayes()\n",
    "model.train(X_train, y_train)\n",
    "y_pred = model.predict(X_test)\n",
    "# print(y_pred)\n",
    "print(\"IRIS:Number of mislabeled points out of a total %d points : %d, Acc: %f%%\"\n",
    "      % (X_test.shape[0], (y_test != y_pred).sum(),100*(y_test == y_pred).sum()/X_test.shape[0]))\n"
   ]
  },
  {
   "cell_type": "code",
   "execution_count": 72,
   "metadata": {},
   "outputs": [
    {
     "name": "stdout",
     "output_type": "stream",
     "text": [
      "[0, 1]\n"
     ]
    }
   ],
   "source": [
    "print(model.predict(X_test[0:2,:]))"
   ]
  },
  {
   "cell_type": "markdown",
   "metadata": {},
   "source": [
    "### 2 使用朴素贝叶斯解决手写数字分类问题"
   ]
  },
  {
   "cell_type": "code",
   "execution_count": 73,
   "metadata": {},
   "outputs": [
    {
     "name": "stdout",
     "output_type": "stream",
     "text": [
      "USPS:Number of mislabeled points out of a total 4649 points : 514, Acc: 88.943859%\n"
     ]
    }
   ],
   "source": [
    "digits=fetch_openml(name='USPS',version=2,data_home='E:/scikit_learn_data')\n",
    "X_d=digits.data\n",
    "y_d=digits.target\n",
    "y_u=np.unique(y_d)#查找数组中的唯一元素\n",
    "enc = LabelEncoder()#使用0到n_classes-1之间的值对目标标签进行编码，\n",
    "#链接https://scikit-learn.org/stable/modules/generated/sklearn.preprocessing.LabelEncoder.html\n",
    "enc.fit(y_d)\n",
    "name=enc.classes_\n",
    "print(name)\n",
    "\n",
    "y1=enc.transform(y_d)\n",
    "\n",
    "X_reduced = PCA(n_components=30).fit_transform(X_d)#主成分分析，将像素提取成30个主成分\n",
    "\n",
    "X_train_d, X_test_d, y_train_d, y_test_d = train_test_split(X_reduced, y1, test_size=0.5, random_state=1)\n",
    "\n",
    "\n",
    "model_d = NaiveBayes()\n",
    "model_d.train(X_train_d, y_train_d)\n",
    "y_pred_d = model_d.predict(X_test_d)\n",
    "\n",
    "print(\"USPS:Number of mislabeled points out of a total %d points : %d, Acc: %f%%\"\n",
    "      %(X_test_d.shape[0], (y_test_d != y_pred_d).sum(),100*(y_test_d == y_pred_d).sum()/X_test_d.shape[0]))"
   ]
  },
  {
   "cell_type": "code",
   "execution_count": 74,
   "metadata": {},
   "outputs": [
    {
     "data": {
      "image/png": "[encoded data removed]",
      "text/plain": [
       "<Figure size 432x288 with 1 Axes>"
      ]
     },
     "metadata": {
      "needs_background": "light"
     },
     "output_type": "display_data"
    }
   ],
   "source": [
    "import matplotlib.pyplot as plt # plt 用于显示图片\n",
    "import matplotlib.image as mpimg # mpimg 用于读取图片\n",
    "\n",
    "plt.imshow(X_d[1].reshape(16,16)) # 显示图片\n",
    "plt.axis('off') # 不显示坐标轴\n",
    "plt.show()"
   ]
  },
  {
   "cell_type": "code",
   "execution_count": 78,
   "metadata": {},
   "outputs": [
    {
     "name": "stdout",
     "output_type": "stream",
     "text": [
      "(1797, 64)\n"
     ]
    },
    {
     "data": {
      "image/png": "[encoded data removed]",
      "text/plain": [
       "<Figure size 432x288 with 1 Axes>"
      ]
     },
     "metadata": {
      "needs_background": "light"
     },
     "output_type": "display_data"
    }
   ],
   "source": [
    "from sklearn import datasets\n",
    "iris = datasets.load_iris()\n",
    "digits = datasets.load_digits()\n",
    "xx = digits.data\n",
    "print(xx.shape)\n",
    "plt.imshow(xx[3].reshape(8,8)) # 显示图片\n",
    "plt.show()"
   ]
  }
 ],
 "metadata": {
  "kernelspec": {
   "display_name": "Python 3",
   "language": "python",
   "name": "python3"
  },
  "language_info": {
   "codemirror_mode": {
    "name": "ipython",
    "version": 3
   },
   "file_extension": ".py",
   "mimetype": "text/x-python",
   "name": "python",
   "nbconvert_exporter": "python",
   "pygments_lexer": "ipython3",
   "version": "3.7.3"
  }
 },
 "nbformat": 4,
 "nbformat_minor": 2
}
