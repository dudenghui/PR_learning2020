{
 "cells": [
  {
   "cell_type": "markdown",
   "metadata": {},
   "source": []
  },
  {
   "cell_type": "code",
   "execution_count": 1,
   "metadata": {},
   "outputs": [],
   "source": [
    "# 导入模块\n",
    "import numpy as np\n",
    "import matplotlib.pyplot as plt\n",
    "from scipy.stats import multivariate_normal"
   ]
  },
  {
   "cell_type": "code",
   "execution_count": 2,
   "metadata": {},
   "outputs": [
    {
     "data": {
      "text/plain": [
       "<matplotlib.contour.QuadContourSet at 0x1e017acd978>"
      ]
     },
     "execution_count": 2,
     "metadata": {},
     "output_type": "execute_result"
    },
    {
     "data": {
      "image/png": "[encoded data removed]",
      "text/plain": [
       "<Figure size 432x288 with 1 Axes>"
      ]
     },
     "metadata": {
      "needs_background": "light"
     },
     "output_type": "display_data"
    }
   ],
   "source": [
    "# 构建测试数据\n",
    "N = 200; pi1 = np.array([0.6, 0.3, 0.1])\n",
    "mu1 = np.array([[0,4], [-2,0], [3,-3]])\n",
    "sigma1 = np.array([[[3,0],[0,0.5]], [[1,0],[0,2]], [[.5,0],[0,.5]]])\n",
    "gen = [np.random.multivariate_normal(mu, sigma, int(pi*N)) for mu, sigma, pi in zip(mu1, sigma1, pi1)]\n",
    "X = np.concatenate(gen)\n",
    "\n",
    "# 初始化: mu, sigma, pi = 均值, 协方差矩阵, 混合系数\n",
    "theta = {}; param = {}\n",
    "theta['pi'] = [1/3, 1/3, 1/3]            # 均匀初始化\n",
    "theta['mu'] = np.random.random((3, 2))   # 随机初始化\n",
    "theta['sigma'] = np.array([np.eye(2)]*3) # 初始化为单位正定矩阵\n",
    "param['k'] = len(pi1); param['N'] = X.shape[0]; param['dim'] = X.shape[1]\n",
    "# 定义函数\n",
    "def GMM_component(X, theta, c):\n",
    "    '''\n",
    "    由联合正态分布计算GMM的单个成员\n",
    "    '''\n",
    "    return theta['pi'][c]*multivariate_normal(theta['mu'][c], theta['sigma'][c, ...]).pdf(X)\n",
    " \n",
    "def E_step(theta, param):\n",
    "    '''\n",
    "    E步：更新隐变量概率分布q(Z)。\n",
    "    '''\n",
    "    q = np.zeros((param['k'], param['N']))\n",
    "    for i in range(param['k']):\n",
    "        q[i, :] = GMM_component(X, theta, i)\n",
    "    q /= q.sum(axis=0)\n",
    "    return q\n",
    " \n",
    "def M_step(X, q, theta, param):\n",
    "    '''\n",
    "    M步：使用q(Z)更新GMM参数。\n",
    "    '''\n",
    "    pi_temp = q.sum(axis=1); pi_temp /= param['N'] # 计算pi\n",
    "    mu_temp = q.dot(X); mu_temp /= q.sum(axis=1)[:, None] # 计算mu\n",
    "    sigma_temp = np.zeros((param['k'], param['dim'], param['dim']))\n",
    "    for i in range(param['k']):\n",
    "        ys = X - mu_temp[i, :]\n",
    "        sigma_temp[i] = np.sum(q[i, :, None, None]*np.matmul(ys[..., None], ys[:, None, :]), axis=0)\n",
    "    sigma_temp /= np.sum(q, axis=1)[:, None, None] # 计算sigma\n",
    "    theta['pi'] = pi_temp; theta['mu'] = mu_temp; theta['sigma'] = sigma_temp\n",
    "    return theta\n",
    " \n",
    "def likelihood(X, theta):\n",
    "    '''\n",
    "    计算GMM的对数似然。\n",
    "    '''\n",
    "    ll = 0\n",
    "    for i in range(param['k']):\n",
    "        ll += GMM_component(X, theta, i)\n",
    "    ll = np.log(ll).sum()\n",
    "    return ll\n",
    " \n",
    "def EM_GMM(X, theta, param, eps=1e-5, max_iter=1000):\n",
    "    '''\n",
    "    高斯混合模型的EM算法求解\n",
    "        theta: GMM模型参数; param: 其它系数; eps: 计算精度; max_iter: 最大迭代次数\n",
    "        返回对数似然和参数theta，theta是包含pi、mu、sigma的Python字典\n",
    "    '''\n",
    "    for i in range(max_iter):\n",
    "        ll_old = 0\n",
    "        # E-step\n",
    "        q = E_step(theta, param)\n",
    "        # M-step\n",
    "        theta = M_step(X, q, theta, param)\n",
    "        ll_new = likelihood(X, theta)\n",
    "        if np.abs(ll_new - ll_old) < eps:\n",
    "            break;\n",
    "        else:\n",
    "            ll_old = ll_new\n",
    "    return ll_new, theta\n",
    "# EM算法求解GMM，最大迭代次数为1e5\n",
    "ll, theta2 = EM_GMM(X, theta, param, max_iter=10000)\n",
    "# 由theta计算联合正态分布的概率密度\n",
    "L = 100; Xlim = [-6, 6]; Ylim = [-6, 6]\n",
    "XGrid, YGrid = np.meshgrid(np.linspace(Xlim[0], Xlim[1], L), np.linspace(Ylim[0], Ylim[1], L))\n",
    "Xout = np.vstack([XGrid.ravel(), YGrid.ravel()]).T\n",
    "MVN = np.zeros(L*L)\n",
    "for i in range(param['k']):\n",
    "    MVN += GMM_component(Xout, theta, i)\n",
    "MVN = MVN.reshape((L, L))\n",
    "# 绘制结果\n",
    "plt.plot(X[:, 0], X[:, 1], 'x', c='gray', zorder=1)\n",
    "plt.contour(XGrid, YGrid, MVN, 5, colors=('k',), linewidths=(2,))"
   ]
  },
  {
   "cell_type": "code",
   "execution_count": 11,
   "metadata": {},
   "outputs": [
    {
     "name": "stdout",
     "output_type": "stream",
     "text": [
      "[0.5 0.5]\n",
      "[[0.92841281 0.64225437 0.03061031]\n",
      " [0.24594374 0.74976645 0.60412782]]\n",
      "[[[1. 0. 0.]\n",
      "  [0. 1. 0.]\n",
      "  [0. 0. 1.]]\n",
      "\n",
      " [[1. 0. 0.]\n",
      "  [0. 1. 0.]\n",
      "  [0. 0. 1.]]]\n"
     ]
    }
   ],
   "source": [
    "import numpy as np\n",
    "theta = {}; param = {}\n",
    "param['k'] = 2; param['N'] = 10; param['dim'] = 3\n",
    "theta['pi'] = np.ones(param['k'])/param['k']                 # 均匀初始化\n",
    "theta['mu'] = np.random.random((param['k'],param['dim']))    # 随机初始化\n",
    "theta['sigma'] = np.array([np.eye(param['dim'])]*param['k']) # 初始化为单位正定矩阵\n",
    "print(theta['pi'])\n",
    "print(theta['mu'])\n",
    "print(theta['sigma'])"
   ]
  },
  {
   "cell_type": "code",
   "execution_count": null,
   "metadata": {},
   "outputs": [],
   "source": [
    "# 初始化: mu, sigma, pi = 均值, 协方差矩阵, 混合系数\n",
    "import numpy as np\n",
    "theta = {}; param = {}\n",
    "param['k'] = 2; param['N'] = 10; param['dim'] = 3\n",
    "theta['pi'] = np.ones(param['k'])/param['k']                 # 均匀初始化\n",
    "theta['mu'] = np.random.random((param['k'],param['dim']))    # 随机初始化\n",
    "theta['sigma'] = np.array([np.eye(param['dim'])]*param['k']) # 初始化为单位正定矩阵\n",
    "\n",
    "\n",
    "# 定义函数\n",
    "def GMM_component(X, theta, c):#由联合正态分布计算GMM的单个成员\n",
    "    return theta['pi'][c]*multivariate_normal(theta['mu'][c], theta['sigma'][c, ...]).pdf(X)\n",
    " \n",
    "def E_step(theta, param):#E步：更新隐变量概率分布q(Z)。\n",
    "    q = np.zeros((param['k'], param['N']))\n",
    "    for i in range(param['k']):\n",
    "        q[i, :] = GMM_component(X, theta, i)\n",
    "    q /= q.sum(axis=0)\n",
    "    return q\n",
    " \n",
    "def M_step(X, q, theta, param):#M步：使用q(Z)更新GMM参数。\n",
    "    pi_temp = q.sum(axis=1); pi_temp /= param['N'] # 计算pi\n",
    "    mu_temp = q.dot(X); mu_temp /= q.sum(axis=1)[:, None] # 计算mu\n",
    "    sigma_temp = np.zeros((param['k'], param['dim'], param['dim']))\n",
    "    for i in range(param['k']):\n",
    "        ys = X - mu_temp[i, :]\n",
    "        sigma_temp[i] = np.sum(q[i, :, None, None]*np.matmul(ys[..., None], ys[:, None, :]), axis=0)\n",
    "    sigma_temp /= np.sum(q, axis=1)[:, None, None] # 计算sigma\n",
    "    theta['pi'] = pi_temp; theta['mu'] = mu_temp; theta['sigma'] = sigma_temp\n",
    "    return theta\n",
    " \n",
    "def likelihood(X, theta):#计算GMM的对数似然。\n",
    "    ll = 0\n",
    "    for i in range(param['k']):\n",
    "        ll += GMM_component(X, theta, i)\n",
    "    ll = np.log(ll).sum()\n",
    "    return ll\n",
    " \n",
    "def EM_GMM(X, theta, param, eps=1e-5, max_iter=1000):\n",
    "    '''\n",
    "    高斯混合模型的EM算法求解\n",
    "        theta: GMM模型参数; param: 其它系数; eps: 计算精度; max_iter: 最大迭代次数\n",
    "        返回对数似然和参数theta，theta是包含pi、mu、sigma的Python字典\n",
    "    '''\n",
    "    for i in range(max_iter):\n",
    "        ll_old = 0\n",
    "        # E-step\n",
    "        q = E_step(theta, param)\n",
    "        # M-step\n",
    "        theta = M_step(X, q, theta, param)\n",
    "        ll_new = likelihood(X, theta)\n",
    "        if np.abs(ll_new - ll_old) < eps:\n",
    "            break;\n",
    "        else:\n",
    "            ll_old = ll_new\n",
    "    return ll_new, theta\n",
    "# EM算法求解GMM，最大迭代次数为1e5\n",
    "ll, theta2 = EM_GMM(X, theta, param, max_iter=10000)\n",
    "# 由theta计算联合正态分布的概率密度\n",
    "L = 100; Xlim = [-6, 6]; Ylim = [-6, 6]\n",
    "XGrid, YGrid = np.meshgrid(np.linspace(Xlim[0], Xlim[1], L), np.linspace(Ylim[0], Ylim[1], L))\n",
    "Xout = np.vstack([XGrid.ravel(), YGrid.ravel()]).T\n",
    "MVN = np.zeros(L*L)\n",
    "for i in range(param['k']):\n",
    "    MVN += GMM_component(Xout, theta, i)\n",
    "MVN = MVN.reshape((L, L))\n",
    "# 绘制结果\n",
    "plt.plot(X[:, 0], X[:, 1], 'x', c='gray', zorder=1)\n",
    "plt.contour(XGrid, YGrid, MVN, 5, colors=('k',), linewidths=(2,))"
   ]
  }
 ],
 "metadata": {
  "kernelspec": {
   "display_name": "Python 3",
   "language": "python",
   "name": "python3"
  },
  "language_info": {
   "codemirror_mode": {
    "name": "ipython",
    "version": 3
   },
   "file_extension": ".py",
   "mimetype": "text/x-python",
   "name": "python",
   "nbconvert_exporter": "python",
   "pygments_lexer": "ipython3",
   "version": "3.7.3"
  }
 },
 "nbformat": 4,
 "nbformat_minor": 2
}
