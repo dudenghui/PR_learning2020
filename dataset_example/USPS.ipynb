{
 "cells": [
  {
   "cell_type": "code",
   "execution_count": 1,
   "metadata": {},
   "outputs": [],
   "source": [
    "import numpy as np\n",
    "import pandas as pd\n",
    "import matplotlib.pyplot as plt\n",
    "%matplotlib inline\n",
    "\n",
    "from sklearn import datasets\n",
    "from sklearn.datasets import fetch_openml\n",
    "\n",
    "from sklearn.model_selection import train_test_split#模型选择\n",
    "from sklearn.preprocessing import LabelEncoder#预处理\n",
    "from sklearn.decomposition import PCA#主成分分析\n",
    "\n",
    "from sklearn.naive_bayes import GaussianNB#高斯朴素贝叶斯算法\n",
    "\n",
    "from collections import Counter\n",
    "import math"
   ]
  },
  {
   "cell_type": "markdown",
   "metadata": {},
   "source": [
    "## USPS数据集\n",
    "\n",
    "USPS包括9298个16 * 16的图像，图像内容为1到10的10个数，用字符串表示"
   ]
  },
  {
   "cell_type": "code",
   "execution_count": 2,
   "metadata": {},
   "outputs": [
    {
     "name": "stdout",
     "output_type": "stream",
     "text": [
      "(9298, 256)\n",
      "['7' '6' '5' '8' '4' '7' '4' '2' '1' '2' '8' '1' '2' '2' '8' '8' '5' '9'\n",
      " '1' '2' '5' '9' '8' '5' '9' '8' '4' '8' '5' '2' '4' '7' '8' '5' '2' '4'\n",
      " '8' '8' '5' '6' '5' '3' '8' '5' '2' '4' '8' '8' '5' '1' '7' '4' '3' '1'\n",
      " '9' '7' '7' '3' '1' '9' '8' '9' '3' '1' '10' '1' '3' '3' '1' '9' '2' '3'\n",
      " '1' '9' '4' '4' '3' '9' '3' '3' '1' '9' '2' '5' '5' '9' '10' '9' '10' '7'\n",
      " '8' '7' '2' '10' '8' '1' '9' '1' '5' '7']\n",
      "['1' '10' '2' '3' '4' '5' '6' '7' '8' '9']\n",
      "[7 6 5 8 4 7 4 2 0 2 8 0 2 2 8 8 5 9 0 2 5 9 8 5 9 8 4 8 5 2 4 7 8 5 2 4 8\n",
      " 8 5 6 5 3 8 5 2 4 8 8 5 0 7 4 3 0 9 7 7 3 0 9 8 9 3 0 1 0 3 3 0 9 2 3 0 9\n",
      " 4 4 3 9 3 3 0 9 2 5 5 9 1 9 1 7 8 7 2 1 8 0 9 0 5 7]\n"
     ]
    }
   ],
   "source": [
    "digits=fetch_openml(name='USPS',version=2,data_home='E:/scikit_learn_data')\n",
    "X_d=digits.data\n",
    "y_d=digits.target\n",
    "print(X_d.shape)\n",
    "print(y_d[0:100])\n",
    "\n",
    "y_u=np.unique(y_d)#查找数组中的唯一元素\n",
    "enc = LabelEncoder()#使用0到n_classes-1之间的值对目标标签进行编码，\n",
    "#链接https://scikit-learn.org/stable/modules/generated/sklearn.preprocessing.LabelEncoder.html\n",
    "enc.fit(y_d)\n",
    "print(enc.classes_)\n",
    "y1=enc.transform(y_d)\n",
    "print(y1[0:100])\n",
    "\n",
    "X_reduced = PCA(n_components=30).fit_transform(X_d)#主成分分析，将像素提取成30个主成分\n",
    "\n",
    "X_train_d, X_test_d, y_train_d, y_test_d = train_test_split(X_reduced, y1, test_size=0.5, random_state=1)\n"
   ]
  }
 ],
 "metadata": {
  "kernelspec": {
   "display_name": "Python 3",
   "language": "python",
   "name": "python3"
  },
  "language_info": {
   "codemirror_mode": {
    "name": "ipython",
    "version": 3
   },
   "file_extension": ".py",
   "mimetype": "text/x-python",
   "name": "python",
   "nbconvert_exporter": "python",
   "pygments_lexer": "ipython3",
   "version": "3.7.3"
  }
 },
 "nbformat": 4,
 "nbformat_minor": 2
}
