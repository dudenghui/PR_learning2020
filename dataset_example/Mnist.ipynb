{
 "cells": [
  {
   "cell_type": "code",
   "execution_count": 2,
   "metadata": {},
   "outputs": [],
   "source": [
    "import numpy as np\n",
    "import pandas as pd\n",
    "import matplotlib.pyplot as plt\n",
    "%matplotlib inline\n",
    "\n",
    "from sklearn import datasets\n",
    "from sklearn.datasets import fetch_openml\n",
    "\n",
    "from sklearn.model_selection import train_test_split#模型选择\n",
    "from sklearn.preprocessing import LabelEncoder#预处理\n",
    "from sklearn.decomposition import PCA#主成分分析\n",
    "\n",
    "from sklearn.naive_bayes import GaussianNB#高斯朴素贝叶斯算法\n",
    "\n",
    "from collections import Counter\n",
    "import math"
   ]
  },
  {
   "cell_type": "code",
   "execution_count": 3,
   "metadata": {},
   "outputs": [],
   "source": [
    "class MVGaussion:\n",
    "    def __init__(self):\n",
    "        self.model = None\n",
    "\n",
    "    @staticmethod\n",
    "    # mathematical expectation\n",
    "    def mu(X):\n",
    "        return sum(X) / float(len(X))#生成一个p*1的特征均值矩阵\n",
    "\n",
    "    # sigma natrix(p*p)\n",
    "    def sigma(self, train_data,train_mu):\n",
    "        train_data_shape = np.shape(train_data)\n",
    "        sigma = np.zeros((train_data_shape[1],train_data_shape[1]))\n",
    "        for sample in zip(train_data):\n",
    "            dot = sample-train_mu\n",
    "            sigma += np.dot(dot.T,dot)\n",
    "        return sigma/train_data_shape[0]\n",
    "\n",
    "    # 处理X_train\n",
    "    def summarize(self, train_data):#train_data为一个N*p的矩阵\n",
    "        mu = [self.mu(i) for i in zip(*train_data)]#1*P\n",
    "        #muT = np.array(mu).reshape(np.size(mu),1)\n",
    "        sigma = self.sigma(train_data,np.array(mu))\n",
    "        summaries = {'mu':mu,'sigma':sigma}#\n",
    "        return summaries#summaries得到的模型参数应该为一个p*1的mu矩阵和一个p*p的大sigma矩阵\n",
    "\n",
    "    # 分类别求出数学期望和标准差\n",
    "    def train(self, X, y):\n",
    "        labels = list(set(y))\n",
    "        data = {label:[] for label in labels}#\n",
    "        for f, label in zip(X, y):\n",
    "            data[label].append(f)\n",
    "        self.model = {label: self.summarize(value) for label, value in data.items()}\n",
    "#         print(self.model)\n",
    "#         for label, value in self.model.items():\n",
    "#             mu,sigma = value['mu'],value['sigma']\n",
    "#             print(mu)\n",
    "#             print(sigma)\n",
    "        return self.model\n",
    "\n",
    "    # 计算概率\n",
    "    def calculate_probabilities(self, input_data):\n",
    "        probabilities = {}\n",
    "        p = np.size(input_data)\n",
    "        for label, value in self.model.items():#value是一个字典\n",
    "            mu,sigma = value['mu'],value['sigma']\n",
    "            sign = input_data-mu\n",
    "            exponent = math.exp((-0.5*np.dot(sign,np.dot(np.linalg.inv(sigma),sign.T))))\n",
    "            probabilities[label] = exponent/(((2*math.pi)**(p/2))*(np.linalg.det(sigma)**0.5))\n",
    "        \n",
    "        return probabilities\n",
    "    \n",
    "    # 类别\n",
    "    def predict(self, X_test):\n",
    "        label = list(range(X_test.shape[0]))\n",
    "        for i in range(X_test.shape[0]):\n",
    "            label[i] = sorted(self.calculate_probabilities(X_test[i,:]).items(), key=lambda x: x[-1])[-1][0]\n",
    "        \n",
    "        return label\n",
    "\n",
    "    def score(self, X_test, y_test):\n",
    "        right = 0\n",
    "        for X, y in zip(X_test, y_test):\n",
    "            label = self.predict(X)\n",
    "            if label == y:\n",
    "                right += 1\n",
    "\n",
    "        return right / float(len(X_test))"
   ]
  },
  {
   "cell_type": "markdown",
   "metadata": {},
   "source": [
    "## 使用多变量高斯处理MNIST数据集分类问题"
   ]
  },
  {
   "cell_type": "markdown",
   "metadata": {},
   "source": [
    "**注意下边的代码中，数据集是按0到9的顺序排列的，因此才会出现取小的数据量时候更准确的情况(在分解数据时会只去一部分相同的数据)，这只是一个错觉，实际使用的过程中一定要将数据打乱的**\n"
   ]
  },
  {
   "cell_type": "code",
   "execution_count": 6,
   "metadata": {},
   "outputs": [
    {
     "name": "stderr",
     "output_type": "stream",
     "text": [
      "C:\\Users\\12569\\Anaconda3\\lib\\site-packages\\sklearn\\utils\\deprecation.py:85: DeprecationWarning: Function fetch_mldata is deprecated; fetch_mldata was deprecated in version 0.20 and will be removed in version 0.22. Please use fetch_openml.\n",
      "  warnings.warn(msg, category=DeprecationWarning)\n",
      "C:\\Users\\12569\\Anaconda3\\lib\\site-packages\\sklearn\\utils\\deprecation.py:85: DeprecationWarning: Function mldata_filename is deprecated; mldata_filename was deprecated in version 0.20 and will be removed in version 0.22. Please use fetch_openml.\n",
      "  warnings.warn(msg, category=DeprecationWarning)\n"
     ]
    },
    {
     "name": "stdout",
     "output_type": "stream",
     "text": [
      "dict_keys(['DESCR', 'COL_NAMES', 'target', 'data'])\n",
      "(70000, 784) (70000,)\n",
      "0.0\n",
      "USPS:Number of mislabeled points out of a total 7000 points : 321, Acc: 95.414286%\n"
     ]
    }
   ],
   "source": [
    "from sklearn.naive_bayes import GaussianNB#高斯朴素贝叶斯算法\n",
    "from sklearn.decomposition import PCA#主成分分析\n",
    "from sklearn.datasets import fetch_mldata\n",
    " \n",
    "mnist = fetch_mldata('MNIST original',data_home=\"E:\\scikit_learn_data\")\n",
    "print(mnist.keys())\n",
    "\n",
    "X, y = mnist[\"data\"], mnist[\"target\"]\n",
    "print(X.shape,y.shape)\n",
    "print(y[3])\n",
    "# plt.imshow(X[0].reshape(28,28), cmap = matplotlib.cm.binary,interpolation=\"nearest\")\n",
    "\n",
    "X_reduced = PCA(n_components=40).fit_transform(X)#特征提取\n",
    "X_train_d, X_test_d, y_train_d, y_test_d = train_test_split(X_reduced, y, test_size=0.1, random_state=1)\n",
    "\n",
    "gate = 10000\n",
    "\n",
    "model_d = MVGaussion()\n",
    "model_d.train(X_train_d[0:gate], y_train_d[0:gate])\n",
    "y_pred_d = model_d.predict(X_test_d)\n",
    "\n",
    "print(\"USPS:Number of mislabeled points out of a total %d points : %d, Acc: %f%%\"\n",
    "      %(X_test_d.shape[0], (y_test_d != y_pred_d).sum(),100*(y_test_d == y_pred_d).sum()/X_test_d.shape[0]))"
   ]
  },
  {
   "cell_type": "markdown",
   "metadata": {},
   "source": [
    "**经分析可得，改变数据训练量和主成分分析的生成数量均可对测试精度造成影响，训练数据越大，总体是越精确但是可能会出现过拟合的现象；主成分分析的生成数量不能太小，也不能太大，只有在一个合适的值时候才能得到最大精度**"
   ]
  },
  {
   "cell_type": "code",
   "execution_count": 7,
   "metadata": {},
   "outputs": [
    {
     "name": "stdout",
     "output_type": "stream",
     "text": [
      "[8. 8. 3. 8. 1. 2. 0. 1. 2. 4. 7. 2. 3. 9. 1. 8. 2. 8. 2. 7. 8. 6. 9. 2.\n",
      " 4. 8. 1. 9. 0. 9. 2. 8. 1. 8. 5. 0. 5. 2. 6. 7. 1. 0. 2. 1. 9. 8. 2. 3.\n",
      " 7. 0. 1. 2. 2. 0. 5. 1. 3. 6. 3. 8. 6. 9. 0. 7. 9. 2. 9. 9. 2. 6. 1. 4.\n",
      " 1. 7. 5. 5. 4. 5. 1. 5. 2. 4. 1. 9. 0. 3. 2. 6. 6. 0. 1. 5. 4. 6. 5. 5.\n",
      " 8. 9. 0.]\n"
     ]
    }
   ],
   "source": [
    "print(y_test_d[1:100])"
   ]
  }
 ],
 "metadata": {
  "kernelspec": {
   "display_name": "Python 3",
   "language": "python",
   "name": "python3"
  },
  "language_info": {
   "codemirror_mode": {
    "name": "ipython",
    "version": 3
   },
   "file_extension": ".py",
   "mimetype": "text/x-python",
   "name": "python",
   "nbconvert_exporter": "python",
   "pygments_lexer": "ipython3",
   "version": "3.7.3"
  }
 },
 "nbformat": 4,
 "nbformat_minor": 2
}
