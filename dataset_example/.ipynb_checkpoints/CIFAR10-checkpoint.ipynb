{
 "cells": [
  {
   "cell_type": "code",
   "execution_count": 7,
   "metadata": {},
   "outputs": [],
   "source": [
    "import numpy as np\n",
    "import pandas as pd\n",
    "import matplotlib.pyplot as plt\n",
    "%matplotlib inline\n",
    "\n",
    "from sklearn import datasets\n",
    "from sklearn.datasets import fetch_openml\n",
    "\n",
    "from sklearn.model_selection import train_test_split#模型选择\n",
    "from sklearn.preprocessing import LabelEncoder#预处理\n",
    "from sklearn.decomposition import PCA#主成分分析\n",
    "\n",
    "from sklearn.naive_bayes import GaussianNB#高斯朴素贝叶斯算法\n",
    "\n",
    "from collections import Counter\n",
    "import math"
   ]
  },
  {
   "cell_type": "markdown",
   "metadata": {},
   "source": [
    "## 知识点\n",
    "\n",
    "1. 字节型数据转换为字符串数据\n",
    "\n",
    "> str(meta[b'label_names'][i])#将b'label_names'转换为字符串\"b'label_names'\"\n",
    " \n",
    "> meta[b'label_names'][i].decode(\"utf-8\")#将字节型数据转换成字符串型数据\n",
    "\n"
   ]
  },
  {
   "cell_type": "markdown",
   "metadata": {},
   "source": [
    "## CIFAR10数据集"
   ]
  },
  {
   "cell_type": "code",
   "execution_count": 16,
   "metadata": {},
   "outputs": [
    {
     "name": "stdout",
     "output_type": "stream",
     "text": [
      "the keys of cifar:            dict_keys([b'batch_label', b'labels', b'data', b'filenames'])\n",
      "the batch_label of cifar:     b'training batch 5 of 5'\n",
      "the data shape of cifar:      (10000, 3072)\n",
      "the image shape of cifar:      (3072,)\n",
      "the labels size of cifar:    10000\n",
      "the meta keys of cifar:            dict_keys([b'num_cases_per_batch', b'label_names', b'num_vis'])\n",
      "the num_cases_per_batch of cifar:  10000\n",
      "the label_names of cifar:          [b'airplane', b'automobile', b'bird', b'cat', b'deer', b'dog', b'frog', b'horse', b'ship', b'truck']\n",
      "the num_vis of cifar:              3072\n",
      "[8, 5, 1, 5, 7, 4, 3, 8, 2]\n"
     ]
    },
    {
     "data": {
      "image/png": "[encoded data removed]",
      "text/plain": [
       "<Figure size 432x288 with 1 Axes>"
      ]
     },
     "metadata": {
      "needs_background": "light"
     },
     "output_type": "display_data"
    }
   ],
   "source": [
    "def unpickle(file):\n",
    "    import pickle\n",
    "    with open(file, 'rb') as fo:\n",
    "        dict = pickle.load(fo, encoding='bytes')\n",
    "    return dict\n",
    "\n",
    "cifar_batch = {}\n",
    "cifar_batch[0] = unpickle(\"E:\\scikit_learn_data\\cifar-10-batches-py\\data_batch_5\")\n",
    "cifar_batch[1] = unpickle(\"E:\\scikit_learn_data\\cifar-10-batches-py\\data_batch_1\")\n",
    "cifar_batch[2] = unpickle(\"E:\\scikit_learn_data\\cifar-10-batches-py\\data_batch_2\")\n",
    "cifar_batch[3] = unpickle(\"E:\\scikit_learn_data\\cifar-10-batches-py\\data_batch_3\")\n",
    "cifar_batch[4] = unpickle(\"E:\\scikit_learn_data\\cifar-10-batches-py\\data_batch_4\")\n",
    "cifar_test = unpickle(\"E:\\scikit_learn_data\\cifar-10-batches-py\\\\test_batch\")\n",
    "cifar_batch_meta = unpickle(\"E:\\scikit_learn_data\\cifar-10-batches-py\\\\batches.meta\")\n",
    " \n",
    "print(\"the keys of cifar:           \",cifar_batch[0].keys())\n",
    "print(\"the batch_label of cifar:    \",cifar_batch[0][b'batch_label'])\n",
    "# print(\"the filenames of cifar:      \",cifar_batch[0][b'filenames'])\n",
    "print(\"the data shape of cifar:     \",cifar_batch[0][b'data'].shape)\n",
    "print(\"the image shape of cifar:     \",cifar_batch[0][b'data'][0].shape)\n",
    "print(\"the labels size of cifar:   \",len(cifar_batch[0][b'labels']))\n",
    "\n",
    "print(\"the meta keys of cifar:           \",cifar_batch_meta.keys())\n",
    "print(\"the num_cases_per_batch of cifar: \",cifar_batch_meta[b'num_cases_per_batch'])\n",
    "print(\"the label_names of cifar:         \",cifar_batch_meta[b'label_names'])\n",
    "print(\"the num_vis of cifar:             \",cifar_batch_meta[b'num_vis'])\n",
    "\n",
    "print(cifar_batch[0][b'labels'][1:10])\n",
    "\n",
    "pic=cifar_batch[0][b'data'][5].reshape(3,32,32)#由于图像在拆分的时候是按行列通道（32,32,3）的顺序，所以在复原的时候应该反过来\n",
    "pic=pic.transpose(1,2,0)\n",
    "plt.imshow(pic) # 显示图片\n",
    "plt.show()"
   ]
  },
  {
   "cell_type": "markdown",
   "metadata": {},
   "source": [
    "### 读取图片并将其保存"
   ]
  },
  {
   "cell_type": "code",
   "execution_count": 102,
   "metadata": {},
   "outputs": [
    {
     "name": "stdout",
     "output_type": "stream",
     "text": [
      "dict_keys([b'num_cases_per_batch', b'label_names', b'num_vis'])\n",
      "保存完毕.\n"
     ]
    }
   ],
   "source": [
    "#用于将cifar10的数据可视化\n",
    "import pickle as p\n",
    "import numpy as np\n",
    "import matplotlib.pyplot as plt\n",
    "import matplotlib.image as plimg\n",
    "from PIL import Image\n",
    "import os\n",
    "\n",
    "def load_CIFAR_batch(filename):\n",
    "    with open(filename, 'rb')as f:\n",
    "        datadict = p.load(f,encoding='latin1')\n",
    "        X = datadict['data']\n",
    "        Y = datadict['labels']\n",
    "        X = X.reshape(10000, 3, 32, 32)\n",
    "        Y = np.array(Y)\n",
    "        return X, Y\n",
    "\n",
    "def load_CIFAR_Labels(filename):\n",
    "    with open(filename, 'rb') as f:\n",
    "        lines = [x for x in f.readlines()]\n",
    "        print(lines)\n",
    "        \n",
    "def unpickle(file):\n",
    "    import pickle\n",
    "    with open(file, 'rb') as fo:\n",
    "        dict = pickle.load(fo, encoding='bytes')\n",
    "    return dict\n",
    "def picture_pack(label,img,step):\n",
    "    os.mkdir(\"E:\\scikit_learn_data\\cifar-10-batches-py\\picture\\ \"+ meta[b'label_names'][i].decode(\"utf-8\"))\n",
    "\n",
    "if __name__ == \"__main__\":\n",
    "    meta = unpickle(\"E:\\scikit_learn_data\\cifar-10-batches-py\\\\batches.meta\")#字典格式\n",
    "    imgX, imgY = load_CIFAR_batch(\"E:\\scikit_learn_data\\cifar-10-batches-py\\\\data_batch_1\")\n",
    "    \n",
    "    #os.mkdir(\"E:\\scikit_learn_data\\cifar-10-batches-py\\\\picture\")\n",
    "    for i in range(10):\n",
    "        a = i\n",
    "#         picture_pack(imgY[i],imgX[i],i)\n",
    "\n",
    "    for i in range(1000):#\n",
    "        imgs = imgX[i]\n",
    "        img0 = imgs[0]\n",
    "        img1 = imgs[1]\n",
    "        img2 = imgs[2]\n",
    "        i0 = Image.fromarray(img0)#从数据，生成image对象\n",
    "        i1 = Image.fromarray(img1)\n",
    "        i2 = Image.fromarray(img2)\n",
    "        img = Image.merge(\"RGB\",(i0,i1,i2))#混合得到图像\n",
    "        \n",
    "        pic_label = meta[b'label_names'][imgY[i]].decode(\"utf-8\")\n",
    "        img.save(\"E:\\scikit_learn_data\\cifar-10-batches-py\\picture\\ \"+pic_label+\"\\ \"+str(i)+ \".png\",\"png\")#文件夹下是RGB融合后的图像\n",
    "        \n",
    "#         for j in range(imgs.shape[0]):\n",
    "#                 img = imgs[j]\n",
    "#                 name = \"img\" + str(i) + str(j) + \".png\"\n",
    "#                 print(\"正在保存图片\" + name)\n",
    "#                 plimg.imsave(\"E:\\scikit_learn_data\\cifar-10-batches-py\\cifar10_images\\ \" + name, img)#文件夹下是RGB分离的图像\n",
    "        \n",
    "    print(\"保存完毕.\")"
   ]
  },
  {
   "cell_type": "code",
   "execution_count": null,
   "metadata": {},
   "outputs": [
    {
     "name": "stderr",
     "output_type": "stream",
     "text": [
      "Using TensorFlow backend.\n"
     ]
    },
    {
     "name": "stdout",
     "output_type": "stream",
     "text": [
      "Downloading data from https://www.cs.toronto.edu/~kriz/cifar-10-python.tar.gz\n",
      "170500096/170498071 [==============================] - 37s 0us/step\n",
      "WARNING:tensorflow:From C:\\Users\\12569\\AppData\\Roaming\\Python\\Python37\\site-packages\\keras\\backend\\tensorflow_backend.py:4070: The name tf.nn.max_pool is deprecated. Please use tf.nn.max_pool2d instead.\n",
      "\n",
      "WARNING:tensorflow:From C:\\Users\\12569\\AppData\\Roaming\\Python\\Python37\\site-packages\\keras\\backend\\tensorflow_backend.py:422: The name tf.global_variables is deprecated. Please use tf.compat.v1.global_variables instead.\n",
      "\n",
      "Train on 50000 samples, validate on 10000 samples\n",
      "Epoch 1/200\n",
      "50000/50000 [==============================] - 66s 1ms/step - loss: 2.1255 - accuracy: 0.2122 - val_loss: 1.8910 - val_accuracy: 0.3256\n",
      "Epoch 2/200\n",
      "50000/50000 [==============================] - 70s 1ms/step - loss: 1.8943 - accuracy: 0.3019 - val_loss: 1.7344 - val_accuracy: 0.3864\n",
      "Epoch 3/200\n",
      "49984/50000 [============================>.] - ETA: 0s - loss: 1.7806 - accuracy: 0.3440"
     ]
    }
   ],
   "source": [
    "import tensorflow as tf\n",
    "import keras\n",
    "from keras.models import Sequential\n",
    "from keras.layers import Dense, Dropout, Activation, Flatten\n",
    "from keras.layers import Conv2D, MaxPooling2D\n",
    "from keras.datasets import cifar10\n",
    "from keras.preprocessing.image import ImageDataGenerator\n",
    "\n",
    "import matplotlib\n",
    "matplotlib.use('Agg')\n",
    "import matplotlib.pyplot as plt\n",
    "\n",
    "\n",
    "classes_num = 10\n",
    "batch_size = 20\n",
    "epochs_num = 200\n",
    "\n",
    "def quality_classify_model():\n",
    "    model = Sequential()\n",
    "    model.add(Conv2D(32, (3, 3), padding='same', input_shape=(32,32,3)))\n",
    "    model.add(Activation('relu'))\n",
    "    model.add(MaxPooling2D(pool_size=(2, 2)))\n",
    "    model.add(Conv2D(32, (3, 3)))\n",
    "    model.add(Activation('relu'))\n",
    "    model.add(MaxPooling2D(pool_size=(2, 2)))\n",
    "    model.add(Conv2D(64, (3, 3), padding='same'))\n",
    "    model.add(Activation('relu'))\n",
    "    model.add(MaxPooling2D(pool_size=(2, 2)))\n",
    "\n",
    "    model.add(Flatten())\n",
    "    model.add(Dense(64))\n",
    "    model.add(Activation('relu'))\n",
    "    model.add(Dropout(0.5))\n",
    "    model.add(Dense(classes_num))\n",
    "    model.add(Activation('softmax'))\n",
    "\n",
    "    opt = keras.optimizers.rmsprop(lr=0.0001, decay=1e-6)\n",
    "    model.compile(loss='categorical_crossentropy', optimizer=opt, metrics=['accuracy'])\n",
    "    return model\n",
    "\n",
    "def train():\n",
    "    # 数据载入\n",
    "    (x_train, y_train), (x_test, y_test) = cifar10.load_data()\n",
    "\n",
    "    # 多分类标签生成\n",
    "    y_train = keras.utils.to_categorical(y_train, classes_num)\n",
    "    y_test = keras.utils.to_categorical(y_test, classes_num)\n",
    "    # 生成训练数据\n",
    "    x_train = x_train.astype('float32')\n",
    "    x_test = x_test.astype('float32')\n",
    "    x_train /= 255\n",
    "    x_test /= 255\n",
    "\n",
    "    model = quality_classify_model()\n",
    "    hist = model.fit(x_train, y_train, batch_size=64, epochs=epochs_num, validation_data=(x_test, y_test), shuffle=True)\n",
    "\n",
    "    model.save('./change_model/cifar10_model.hdf5') \n",
    "    model.save_weights('./change_model/cifar10_model_weight.hdf5')\n",
    "\n",
    "    hist_dict = hist.history\n",
    "    print(\"train acc:\",hist_dict['acc'])\n",
    "    print(\"validation acc:\",hist_dict['val_acc'])\n",
    "   \n",
    "    train_acc = hist.history['acc']\n",
    "    val_acc = hist.history['val_acc']\n",
    "    train_loss = hist.history['loss']\n",
    "    val_loss = hist.history['val_loss']\n",
    "\n",
    "    # 绘图\n",
    "    epochs = range(1, len(train_acc)+1)\n",
    "    plt.plot(epochs, train_acc, 'bo', label = 'Training acc')\n",
    "    plt.plot(epochs, val_acc, 'r', label = 'Validation acc')\n",
    "    plt.title('Training and validation accuracy')\n",
    "    plt.legend()\n",
    "    plt.savefig(\"accuracy.png\")\n",
    "    plt.figure() # 新建一个图\n",
    "    plt.plot(epochs, train_loss, 'bo', label = 'Training loss')\n",
    "    plt.plot(epochs, val_loss, 'r', label = 'Validation loss')\n",
    "    plt.title('Training and validation loss')\n",
    "    plt.legend()\n",
    "    plt.savefig(\"loss.png\")\n",
    "    \n",
    "train()"
   ]
  }
 ],
 "metadata": {
  "kernelspec": {
   "display_name": "Python 3",
   "language": "python",
   "name": "python3"
  },
  "language_info": {
   "codemirror_mode": {
    "name": "ipython",
    "version": 3
   },
   "file_extension": ".py",
   "mimetype": "text/x-python",
   "name": "python",
   "nbconvert_exporter": "python",
   "pygments_lexer": "ipython3",
   "version": "3.7.3"
  }
 },
 "nbformat": 4,
 "nbformat_minor": 2
}
